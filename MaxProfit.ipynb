{
  "nbformat": 4,
  "nbformat_minor": 0,
  "metadata": {
    "colab": {
      "name": "MaxProfit.ipynb",
      "provenance": [],
      "collapsed_sections": [],
      "authorship_tag": "ABX9TyM0ZVxE4qBWohvDkQpZoWy9",
      "include_colab_link": true
    },
    "kernelspec": {
      "name": "python3",
      "display_name": "Python 3"
    },
    "language_info": {
      "name": "python"
    }
  },
  "cells": [
    {
      "cell_type": "markdown",
      "metadata": {
        "id": "view-in-github",
        "colab_type": "text"
      },
      "source": [
        "<a href=\"https://colab.research.google.com/github/felipeodorcyk/Codility_Python_Exercises/blob/main/MaxProfit.ipynb\" target=\"_parent\"><img src=\"https://colab.research.google.com/assets/colab-badge.svg\" alt=\"Open In Colab\"/></a>"
      ]
    },
    {
      "cell_type": "markdown",
      "source": [
        "An array A consisting of N integers is given. It contains daily prices of a stock share for a period of N consecutive days. If a single share was bought on day P and sold on day Q, where 0 ≤ P ≤ Q < N, then the profit of such transaction is equal to A[Q] − A[P], provided that A[Q] ≥ A[P]. Otherwise, the transaction brings loss of A[P] − A[Q].\n",
        "\n",
        "For example, consider the following array A consisting of six elements such that:\n",
        "\n",
        "  A[0] = 23171\n",
        "  A[1] = 21011\n",
        "  A[2] = 21123\n",
        "  A[3] = 21366\n",
        "  A[4] = 21013\n",
        "  A[5] = 21367\n",
        "If a share was bought on day 0 and sold on day 2, a loss of 2048 would occur because A[2] − A[0] = 21123 − 23171 = −2048. If a share was bought on day 4 and sold on day 5, a profit of 354 would occur because A[5] − A[4] = 21367 − 21013 = 354. Maximum possible profit was 356. It would occur if a share was bought on day 1 and sold on day 5.\n",
        "\n",
        "Write a function,\n",
        "\n",
        "def solution(A)\n",
        "\n",
        "that, given an array A consisting of N integers containing daily prices of a stock share for a period of N consecutive days, returns the maximum possible profit from one transaction during this period. The function should return 0 if it was impossible to gain any profit.\n",
        "\n",
        "For example, given array A consisting of six elements such that:\n",
        "\n",
        "  A[0] = 23171\n",
        "  A[1] = 21011\n",
        "  A[2] = 21123\n",
        "  A[3] = 21366\n",
        "  A[4] = 21013\n",
        "  A[5] = 21367\n",
        "the function should return 356, as explained above.\n",
        "\n",
        "Write an efficient algorithm for the following assumptions:\n",
        "\n",
        "N is an integer within the range [0..400,000];\n",
        "each element of array A is an integer within the range [0..200,000]."
      ],
      "metadata": {
        "id": "4AjddO86qwgi"
      }
    },
    {
      "cell_type": "code",
      "execution_count": 1,
      "metadata": {
        "id": "YlOf7huSofVA"
      },
      "outputs": [],
      "source": [
        "def solution(A):\n",
        "    min_value = 99999999999999999\n",
        "    max_profit = 0\n",
        "    current_profit = 0\n",
        "\n",
        "    if len(A) <= 1:\n",
        "        return 0\n",
        "\n",
        "    for i in A:\n",
        "        if i < min_value:\n",
        "            min_value = i\n",
        "        else:\n",
        "            current_profit = i - min_value\n",
        "            if current_profit > max_profit:\n",
        "                max_profit = current_profit\n",
        "                \n",
        "    return max_profit"
      ]
    }
  ]
}