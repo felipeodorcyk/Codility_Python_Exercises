{
  "nbformat": 4,
  "nbformat_minor": 0,
  "metadata": {
    "colab": {
      "name": "Dominator.ipynb",
      "provenance": [],
      "collapsed_sections": [],
      "authorship_tag": "ABX9TyMKySSy41F7EpdLiDOPYYRt",
      "include_colab_link": true
    },
    "kernelspec": {
      "name": "python3",
      "display_name": "Python 3"
    },
    "language_info": {
      "name": "python"
    }
  },
  "cells": [
    {
      "cell_type": "markdown",
      "metadata": {
        "id": "view-in-github",
        "colab_type": "text"
      },
      "source": [
        "<a href=\"https://colab.research.google.com/github/felipeodorcyk/Codility_Python_Exercises/blob/main/Dominator.ipynb\" target=\"_parent\"><img src=\"https://colab.research.google.com/assets/colab-badge.svg\" alt=\"Open In Colab\"/></a>"
      ]
    },
    {
      "cell_type": "markdown",
      "source": [
        "An array A consisting of N integers is given. The dominator of array A is the value that occurs in more than half of the elements of A.\n",
        "\n",
        "For example, consider array A such that\n",
        "\n",
        " A[0] = 3    A[1] = 4    A[2] =  3\n",
        " A[3] = 2    A[4] = 3    A[5] = -1\n",
        " A[6] = 3    A[7] = 3\n",
        "The dominator of A is 3 because it occurs in 5 out of 8 elements of A (namely in those with indices 0, 2, 4, 6 and 7) and 5 is more than a half of 8.\n",
        "\n",
        "Write a function\n",
        "\n",
        "def solution(A)\n",
        "\n",
        "that, given an array A consisting of N integers, returns index of any element of array A in which the dominator of A occurs. The function should return −1 if array A does not have a dominator.\n",
        "\n",
        "For example, given array A such that\n",
        "\n",
        " A[0] = 3    A[1] = 4    A[2] =  3\n",
        " A[3] = 2    A[4] = 3    A[5] = -1\n",
        " A[6] = 3    A[7] = 3\n",
        "the function may return 0, 2, 4, 6 or 7, as explained above.\n",
        "\n",
        "Write an efficient algorithm for the following assumptions:\n",
        "\n",
        "N is an integer within the range [0..100,000];\n",
        "each element of array A is an integer within the range [−2,147,483,648..2,147,483,647]."
      ],
      "metadata": {
        "id": "k7_sba2iYRBQ"
      }
    },
    {
      "cell_type": "code",
      "execution_count": 1,
      "metadata": {
        "id": "R40sjuSQTLLY"
      },
      "outputs": [],
      "source": [
        "from collections import Counter\n",
        "def solution(A):\n",
        "    if len(A) == 0:\n",
        "        return -1\n",
        "    counter = Counter(A)\n",
        "    if counter.most_common(1)[0][1] > len(A)/2:\n",
        "        return A.index(counter.most_common(1)[0][0])\n",
        "    else: return -1"
      ]
    }
  ]
}