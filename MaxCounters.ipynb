{
  "nbformat": 4,
  "nbformat_minor": 0,
  "metadata": {
    "colab": {
      "name": "MaxCounters.ipynb",
      "provenance": [],
      "collapsed_sections": [],
      "authorship_tag": "ABX9TyNN09htgRLpDUmjiIFb6asQ",
      "include_colab_link": true
    },
    "kernelspec": {
      "name": "python3",
      "display_name": "Python 3"
    },
    "language_info": {
      "name": "python"
    }
  },
  "cells": [
    {
      "cell_type": "markdown",
      "metadata": {
        "id": "view-in-github",
        "colab_type": "text"
      },
      "source": [
        "<a href=\"https://colab.research.google.com/github/felipeodorcyk/Codility_Python_Exercises/blob/main/MaxCounters.ipynb\" target=\"_parent\"><img src=\"https://colab.research.google.com/assets/colab-badge.svg\" alt=\"Open In Colab\"/></a>"
      ]
    },
    {
      "cell_type": "markdown",
      "source": [
        "You are given N counters, initially set to 0, and you have two possible operations on them:\n",
        "\n",
        "increase(X) − counter X is increased by 1,\n",
        "max counter − all counters are set to the maximum value of any counter.\n",
        "A non-empty array A of M integers is given. This array represents consecutive operations:\n",
        "\n",
        "if A[K] = X, such that 1 ≤ X ≤ N, then operation K is increase(X),\n",
        "if A[K] = N + 1 then operation K is max counter.\n",
        "For example, given integer N = 5 and array A such that:\n",
        "\n",
        "    A[0] = 3\n",
        "    A[1] = 4\n",
        "    A[2] = 4\n",
        "    A[3] = 6\n",
        "    A[4] = 1\n",
        "    A[5] = 4\n",
        "    A[6] = 4\n",
        "the values of the counters after each consecutive operation will be:\n",
        "\n",
        "    (0, 0, 1, 0, 0)\n",
        "    (0, 0, 1, 1, 0)\n",
        "    (0, 0, 1, 2, 0)\n",
        "    (2, 2, 2, 2, 2)\n",
        "    (3, 2, 2, 2, 2)\n",
        "    (3, 2, 2, 3, 2)\n",
        "    (3, 2, 2, 4, 2)\n",
        "The goal is to calculate the value of every counter after all operations.\n",
        "\n",
        "Write a function:\n",
        "\n",
        "def solution(N, A)\n",
        "\n",
        "that, given an integer N and a non-empty array A consisting of M integers, returns a sequence of integers representing the values of the counters.\n",
        "\n",
        "Result array should be returned as an array of integers.\n",
        "\n",
        "For example, given:\n",
        "\n",
        "    A[0] = 3\n",
        "    A[1] = 4\n",
        "    A[2] = 4\n",
        "    A[3] = 6\n",
        "    A[4] = 1\n",
        "    A[5] = 4\n",
        "    A[6] = 4\n",
        "the function should return [3, 2, 2, 4, 2], as explained above.\n",
        "\n",
        "Write an efficient algorithm for the following assumptions:\n",
        "\n",
        "N and M are integers within the range [1..100,000];\n",
        "each element of array A is an integer within the range [1..N + 1]."
      ],
      "metadata": {
        "id": "TGwRCEt8Jp0x"
      }
    },
    {
      "cell_type": "code",
      "source": [
        "def solution(N,A):\n",
        "  #if all values in A are maximizers returns counters as zeros (more efficient)\n",
        "  if len(set(A)) == 1 and A[0] == N+1:\n",
        "    counters = [0]*N\n",
        "\n",
        "  else:\n",
        "    #Creates list of maximizer indexes\n",
        "    idxs = []\n",
        "    for idx, num in enumerate(A):\n",
        "      if num == N+1 and idx != 0 and A[idx-1] != N+1:\n",
        "        idxs.append(idx)\n",
        "  \n",
        "    #Finds count up to last maximizer:\n",
        "    max_value = 0\n",
        "    for idx_count, idx in enumerate(idxs):\n",
        "      if idx_count == 0:\n",
        "        counter = Counter(A[:idx])\n",
        "        if counter.most_common(1)[0][0] != N+1:\n",
        "          max_value = counter.most_common(1)[0][1]\n",
        "        else: \n",
        "          max_value = counter.most_common(2)[1][1]\n",
        "      else:\n",
        "        position_last_maximizer = idxs[idx_count -1]\n",
        "        counter = Counter(A[position_last_maximizer : idx])\n",
        "        if counter.most_common(1)[0][0] != N+1:\n",
        "          max_value += counter.most_common(1)[0][1]\n",
        "        else: \n",
        "          max_value += counter.most_common(2)[1][1]\n",
        "  \n",
        "    #Iterates through commands from last maximizer to the end and creates counters\n",
        "    counters = [max_value]*N\n",
        "    if len(idxs) != 0:\n",
        "\n",
        "      for num in A[idxs[-1]:]:\n",
        "        if num <= N:\n",
        "          counters[num-1] +=1\n",
        "        elif num == N+1:\n",
        "          max_value = max(counters)\n",
        "          counters = [max_value]*N\n",
        "\n",
        "    else:\n",
        "      for num in A:\n",
        "        if num <= N:\n",
        "          counters[num-1] +=1\n",
        "        elif num == N+1:\n",
        "          max_value = max(counters)\n",
        "          counters = [max_value]*N\n",
        "\n",
        "  return counters\n",
        "      "
      ],
      "metadata": {
        "id": "fTW-Rk0YYOsS"
      },
      "execution_count": null,
      "outputs": []
    }
  ]
}