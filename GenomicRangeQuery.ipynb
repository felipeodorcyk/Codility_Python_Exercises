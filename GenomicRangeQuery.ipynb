{
  "nbformat": 4,
  "nbformat_minor": 0,
  "metadata": {
    "colab": {
      "name": "GenomicRangeQuery.ipynb",
      "provenance": [],
      "collapsed_sections": [],
      "authorship_tag": "ABX9TyPNUX8tvUOHoqjgwzhzuTcK",
      "include_colab_link": true
    },
    "kernelspec": {
      "name": "python3",
      "display_name": "Python 3"
    },
    "language_info": {
      "name": "python"
    }
  },
  "cells": [
    {
      "cell_type": "markdown",
      "metadata": {
        "id": "view-in-github",
        "colab_type": "text"
      },
      "source": [
        "<a href=\"https://colab.research.google.com/github/felipeodorcyk/Codility_Python_Exercises/blob/main/GenomicRangeQuery.ipynb\" target=\"_parent\"><img src=\"https://colab.research.google.com/assets/colab-badge.svg\" alt=\"Open In Colab\"/></a>"
      ]
    },
    {
      "cell_type": "markdown",
      "source": [
        "A DNA sequence can be represented as a string consisting of the letters A, C, G and T, which correspond to the types of successive nucleotides in the sequence. Each nucleotide has an impact factor, which is an integer. Nucleotides of types A, C, G and T have impact factors of 1, 2, 3 and 4, respectively. You are going to answer several queries of the form: What is the minimal impact factor of nucleotides contained in a particular part of the given DNA sequence?\n",
        "\n",
        "The DNA sequence is given as a non-empty string S = S[0]S[1]...S[N-1] consisting of N characters. There are M queries, which are given in non-empty arrays P and Q, each consisting of M integers. The K-th query (0 ≤ K < M) requires you to find the minimal impact factor of nucleotides contained in the DNA sequence between positions P[K] and Q[K] (inclusive).\n",
        "\n",
        "For example, consider string S = CAGCCTA and arrays P, Q such that:\n",
        "\n",
        "    P[0] = 2    Q[0] = 4\n",
        "    P[1] = 5    Q[1] = 5\n",
        "    P[2] = 0    Q[2] = 6\n",
        "The answers to these M = 3 queries are as follows:\n",
        "\n",
        "The part of the DNA between positions 2 and 4 contains nucleotides G and C (twice), whose impact factors are 3 and 2 respectively, so the answer is 2.\n",
        "The part between positions 5 and 5 contains a single nucleotide T, whose impact factor is 4, so the answer is 4.\n",
        "The part between positions 0 and 6 (the whole string) contains all nucleotides, in particular nucleotide A whose impact factor is 1, so the answer is 1.\n",
        "Write a function:\n",
        "\n",
        "def solution(S, P, Q)\n",
        "\n",
        "that, given a non-empty string S consisting of N characters and two non-empty arrays P and Q consisting of M integers, returns an array consisting of M integers specifying the consecutive answers to all queries.\n",
        "\n",
        "Result array should be returned as an array of integers.\n",
        "\n",
        "For example, given the string S = CAGCCTA and arrays P, Q such that:\n",
        "\n",
        "    P[0] = 2    Q[0] = 4\n",
        "    P[1] = 5    Q[1] = 5\n",
        "    P[2] = 0    Q[2] = 6\n",
        "the function should return the values [2, 4, 1], as explained above.\n",
        "\n",
        "Write an efficient algorithm for the following assumptions:\n",
        "\n",
        "N is an integer within the range [1..100,000];\n",
        "M is an integer within the range [1..50,000];\n",
        "each element of arrays P and Q is an integer within the range [0..N − 1];\n",
        "P[K] ≤ Q[K], where 0 ≤ K < M;\n",
        "string S consists only of upper-case English letters A, C, G, T."
      ],
      "metadata": {
        "id": "buMrKppFOfK-"
      }
    },
    {
      "cell_type": "code",
      "execution_count": null,
      "metadata": {
        "id": "41h0XS1sFsAa"
      },
      "outputs": [],
      "source": [
        "def solution(S, P, Q):\n",
        "    r_list = []\n",
        "    M = len(P)\n",
        "    no_dup = set(i for i in S)\n",
        "    if len(no_dup) == 1:\n",
        "        for idx in range(M):\n",
        "            if 'A' in S[0]:\n",
        "                r_list.append(1)\n",
        "            elif 'C' in S[0]:\n",
        "                r_list.append(2)\n",
        "            elif 'G' in S[0]:\n",
        "                r_list.append(3)\n",
        "            elif 'T' in S[0]:\n",
        "                r_list.append(4)\n",
        "    else:\n",
        "        for idx in range(M):\n",
        "            if P[idx] == Q[idx]:\n",
        "                if 'A' in S[P[idx]]:\n",
        "                    r_list.append(1)\n",
        "                elif 'C' in S[P[idx]]:\n",
        "                    r_list.append(2)\n",
        "                elif 'G' in S[P[idx]]:\n",
        "                    r_list.append(3)\n",
        "                elif 'T' in S[P[idx]]:\n",
        "                    r_list.append(4)\n",
        "            else:\n",
        "                if Q[idx]+1 >= len(S):\n",
        "                    if 'A' in S[P[idx]: ]:\n",
        "                        r_list.append(1)\n",
        "                    elif 'C' in S[P[idx]: ]:\n",
        "                        r_list.append(2)\n",
        "                    elif 'G' in S[P[idx]: ]:\n",
        "                        r_list.append(3)\n",
        "                    elif 'T' in S[P[idx]: ]:\n",
        "                        r_list.append(4)\n",
        "\n",
        "                else:\n",
        "                    if 'A' in S[P[idx]: Q[idx]+1]:\n",
        "                        r_list.append(1)\n",
        "                    elif 'C' in S[P[idx]: Q[idx]+1]:\n",
        "                        r_list.append(2)\n",
        "                    elif 'G' in S[P[idx]: Q[idx]+1]:\n",
        "                        r_list.append(3)\n",
        "                    elif 'T' in S[P[idx]: Q[idx]+1]:\n",
        "                        r_list.append(4)            \n",
        "                    \n",
        "    \n",
        "    return r_list"
      ]
    }
  ]
}