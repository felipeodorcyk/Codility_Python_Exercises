{
  "nbformat": 4,
  "nbformat_minor": 0,
  "metadata": {
    "colab": {
      "name": "CountFactors.ipynb",
      "provenance": [],
      "collapsed_sections": [],
      "authorship_tag": "ABX9TyM7AIngCZUWTd00+vo2zHkI",
      "include_colab_link": true
    },
    "kernelspec": {
      "name": "python3",
      "display_name": "Python 3"
    },
    "language_info": {
      "name": "python"
    }
  },
  "cells": [
    {
      "cell_type": "markdown",
      "metadata": {
        "id": "view-in-github",
        "colab_type": "text"
      },
      "source": [
        "<a href=\"https://colab.research.google.com/github/felipeodorcyk/Codility_Python_Exercises/blob/main/CountFactors.ipynb\" target=\"_parent\"><img src=\"https://colab.research.google.com/assets/colab-badge.svg\" alt=\"Open In Colab\"/></a>"
      ]
    },
    {
      "cell_type": "markdown",
      "source": [
        "A positive integer D is a factor of a positive integer N if there exists an integer M such that N = D * M.\n",
        "\n",
        "For example, 6 is a factor of 24, because M = 4 satisfies the above condition (24 = 6 * 4).\n",
        "\n",
        "Write a function:\n",
        "\n",
        "def solution(N)\n",
        "\n",
        "that, given a positive integer N, returns the number of its factors.\n",
        "\n",
        "For example, given N = 24, the function should return 8, because 24 has 8 factors, namely 1, 2, 3, 4, 6, 8, 12, 24. There are no other factors of 24.\n",
        "\n",
        "Write an efficient algorithm for the following assumptions:\n",
        "\n",
        "N is an integer within the range [1..2,147,483,647]."
      ],
      "metadata": {
        "id": "slJtYGM8OeqT"
      }
    },
    {
      "cell_type": "code",
      "execution_count": null,
      "metadata": {
        "id": "u8UrNYFSEny-"
      },
      "outputs": [],
      "source": [
        "def solution(N):\n",
        "    factor_count = 0\n",
        "    i = 1\n",
        "    while i*i < N:\n",
        "        if N % i ==0:\n",
        "            factor_count += 2\n",
        "        i += 1\n",
        "    \n",
        "    if i*i == N:\n",
        "        factor_count += 1\n",
        "\n",
        "    return factor_count"
      ]
    }
  ]
}