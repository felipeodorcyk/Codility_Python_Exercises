{
  "nbformat": 4,
  "nbformat_minor": 0,
  "metadata": {
    "colab": {
      "name": "CountDiv.ipynb",
      "provenance": [],
      "collapsed_sections": [],
      "authorship_tag": "ABX9TyNMuLZ9osrreEK7NhmHqJhq",
      "include_colab_link": true
    },
    "kernelspec": {
      "name": "python3",
      "display_name": "Python 3"
    },
    "language_info": {
      "name": "python"
    }
  },
  "cells": [
    {
      "cell_type": "markdown",
      "metadata": {
        "id": "view-in-github",
        "colab_type": "text"
      },
      "source": [
        "<a href=\"https://colab.research.google.com/github/felipeodorcyk/Codility_Python_Exercises/blob/main/CountDiv.ipynb\" target=\"_parent\"><img src=\"https://colab.research.google.com/assets/colab-badge.svg\" alt=\"Open In Colab\"/></a>"
      ]
    },
    {
      "cell_type": "markdown",
      "source": [
        "Write a function:\n",
        "\n",
        "def solution(A, B, K)\n",
        "\n",
        "that, given three integers A, B and K, returns the number of integers within the range [A..B] that are divisible by K, i.e.:\n",
        "\n",
        "{ i : A ≤ i ≤ B, i mod K = 0 }\n",
        "\n",
        "For example, for A = 6, B = 11 and K = 2, your function should return 3, because there are three numbers divisible by 2 within the range [6..11], namely 6, 8 and 10.\n",
        "\n",
        "Write an efficient algorithm for the following assumptions:\n",
        "\n",
        "A and B are integers within the range [0..2,000,000,000];\n",
        "K is an integer within the range [1..2,000,000,000];\n",
        "A ≤ B."
      ],
      "metadata": {
        "id": "XuCM9ARgOJdG"
      }
    },
    {
      "cell_type": "code",
      "execution_count": null,
      "metadata": {
        "id": "l5B6do-yriSR"
      },
      "outputs": [],
      "source": [
        "from math import floor\n",
        "def solution(A, B, K):\n",
        "    n_div = 0\n",
        "    if A == 0:\n",
        "        n_div +=1\n",
        "    if A == B:\n",
        "        if A % K == 0:\n",
        "            n_div = 1\n",
        "            return n_div       \n",
        "    if K > B:\n",
        "        return n_div  \n",
        "    else:\n",
        "        if K<=A:\n",
        "            for n in range(A,B):\n",
        "                if n % K==0:\n",
        "                    n_div += floor(((B-n)/K)+1)\n",
        "                    return n_div\n",
        "        else:\n",
        "            n_div += floor(((B-K)/K)+1)\n",
        "            return n_div\n",
        "    return n_div"
      ]
    },
    {
      "cell_type": "code",
      "source": [
        ""
      ],
      "metadata": {
        "id": "aqQSF0YG35-S"
      },
      "execution_count": null,
      "outputs": []
    }
  ]
}