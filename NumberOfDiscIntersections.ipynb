{
  "nbformat": 4,
  "nbformat_minor": 0,
  "metadata": {
    "colab": {
      "name": "NumberOfDiscIntersections.ipynb",
      "provenance": [],
      "collapsed_sections": [],
      "authorship_tag": "ABX9TyObg0B5ErRM29CPi/CRQcCu",
      "include_colab_link": true
    },
    "kernelspec": {
      "name": "python3",
      "display_name": "Python 3"
    },
    "language_info": {
      "name": "python"
    }
  },
  "cells": [
    {
      "cell_type": "markdown",
      "metadata": {
        "id": "view-in-github",
        "colab_type": "text"
      },
      "source": [
        "<a href=\"https://colab.research.google.com/github/felipeodorcyk/Codility_Python_Exercises/blob/main/NumberOfDiscIntersections.ipynb\" target=\"_parent\"><img src=\"https://colab.research.google.com/assets/colab-badge.svg\" alt=\"Open In Colab\"/></a>"
      ]
    },
    {
      "cell_type": "markdown",
      "source": [
        "We draw N discs on a plane. The discs are numbered from 0 to N − 1. An array A of N non-negative integers, specifying the radiuses of the discs, is given. The J-th disc is drawn with its center at (J, 0) and radius A[J].\n",
        "\n",
        "We say that the J-th disc and K-th disc intersect if J ≠ K and the J-th and K-th discs have at least one common point (assuming that the discs contain their borders).\n",
        "\n",
        "The figure below shows discs drawn for N = 6 and A as follows:\n",
        "\n",
        "  A[0] = 1\n",
        "  A[1] = 5\n",
        "  A[2] = 2\n",
        "  A[3] = 1\n",
        "  A[4] = 4\n",
        "  A[5] = 0\n",
        "\n",
        "\n",
        "There are eleven (unordered) pairs of discs that intersect, namely:\n",
        "\n",
        "discs 1 and 4 intersect, and both intersect with all the other discs;\n",
        "disc 2 also intersects with discs 0 and 3.\n",
        "Write a function:\n",
        "\n",
        "class Solution { public int solution(int[] A); }\n",
        "\n",
        "that, given an array A describing N discs as explained above, returns the number of (unordered) pairs of intersecting discs. The function should return −1 if the number of intersecting pairs exceeds 10,000,000.\n",
        "\n",
        "Given array A shown above, the function should return 11, as explained above.\n",
        "\n",
        "Write an efficient algorithm for the following assumptions:\n",
        "\n",
        "N is an integer within the range [0..100,000];\n",
        "each element of array A is an integer within the range [0..2,147,483,647]."
      ],
      "metadata": {
        "id": "8TLBQX2QP3kN"
      }
    },
    {
      "cell_type": "code",
      "source": [
        "def solution(A):\n",
        "  start = []\n",
        "  end = []\n",
        "  discs_open = 0\n",
        "  intersections = 0\n",
        "  intersect_count = 0\n",
        "  for idx, n in enumerate(A):\n",
        "    start.append(idx-n)\n",
        "    end.append(n+idx)\n",
        "\n",
        "  start.sort()\n",
        "  end.sort()\n",
        "  \n",
        "  for i in range(len(A)):\n",
        "    for j in range(k, list_len):\n",
        "      if start[i] <= end[j]:\n",
        "        intersections += open_discs              \n",
        "          if intersections > 10000000:\n",
        "            return -1\n",
        "          open_discs += 1\n",
        "          break\n",
        "            # close a disc\n",
        "        open_discs -= min(1, open_discs)\n",
        "        k += 1\n",
        "  return intersections"
      ],
      "metadata": {
        "id": "SplUor3mMq9y"
      },
      "execution_count": null,
      "outputs": []
    }
  ]
}