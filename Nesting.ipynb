{
  "nbformat": 4,
  "nbformat_minor": 0,
  "metadata": {
    "colab": {
      "name": "Nesting.ipynb",
      "provenance": [],
      "collapsed_sections": [],
      "authorship_tag": "ABX9TyPnJmvfRddmcR1HBR74VxfJ",
      "include_colab_link": true
    },
    "kernelspec": {
      "name": "python3",
      "display_name": "Python 3"
    },
    "language_info": {
      "name": "python"
    }
  },
  "cells": [
    {
      "cell_type": "markdown",
      "metadata": {
        "id": "view-in-github",
        "colab_type": "text"
      },
      "source": [
        "<a href=\"https://colab.research.google.com/github/felipeodorcyk/Codility_Python_Exercises/blob/main/Nesting.ipynb\" target=\"_parent\"><img src=\"https://colab.research.google.com/assets/colab-badge.svg\" alt=\"Open In Colab\"/></a>"
      ]
    },
    {
      "cell_type": "markdown",
      "source": [
        "A string S consisting of N characters is called properly nested if:\n",
        "\n",
        "S is empty;\n",
        "S has the form \"(U)\" where U is a properly nested string;\n",
        "S has the form \"VW\" where V and W are properly nested strings.\n",
        "For example, string \"(()(())())\" is properly nested but string \"())\" isn't.\n",
        "\n",
        "Write a function:\n",
        "\n",
        "def solution(S)\n",
        "\n",
        "that, given a string S consisting of N characters, returns 1 if string S is properly nested and 0 otherwise.\n",
        "\n",
        "For example, given S = \"(()(())())\", the function should return 1 and given S = \"())\", the function should return 0, as explained above.\n",
        "\n",
        "Write an efficient algorithm for the following assumptions:\n",
        "\n",
        "N is an integer within the range [0..1,000,000];\n",
        "string S consists only of the characters \"(\" and/or \")\"."
      ],
      "metadata": {
        "id": "4kwZ83toggx2"
      }
    },
    {
      "cell_type": "code",
      "execution_count": null,
      "metadata": {
        "id": "Fzf4KA53SNj9"
      },
      "outputs": [],
      "source": [
        "def solution(S):\n",
        "    open_count = 0\n",
        "    close_count = 0\n",
        "    #Avoiding error if string is empty:\n",
        "    if len(S) == 0: \n",
        "        return 1\n",
        "    #If string length is odd or if ends in (:\n",
        "    if len(S)%2 != 0 or S[-1]=='(':\n",
        "        return 0\n",
        "    #Iterates through string and stops if there are more ) than (:\n",
        "    for i in S:\n",
        "        if i == '(':\n",
        "            open_count += 1\n",
        "        else:\n",
        "            close_count +=1\n",
        "            if close_count > open_count:\n",
        "                return 0\n",
        "    #If there are equal numbers of ( and ):\n",
        "    if close_count != open_count:\n",
        "        return 0\n",
        "\n",
        "    return 1"
      ]
    }
  ]
}