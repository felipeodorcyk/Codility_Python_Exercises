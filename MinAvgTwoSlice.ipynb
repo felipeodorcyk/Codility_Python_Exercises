{
  "nbformat": 4,
  "nbformat_minor": 0,
  "metadata": {
    "colab": {
      "name": "minavgtwoslice.ipynb",
      "provenance": [],
      "collapsed_sections": [],
      "authorship_tag": "ABX9TyPWfPbFit5hDC2ZMHhZMpkU",
      "include_colab_link": true
    },
    "kernelspec": {
      "name": "python3",
      "display_name": "Python 3"
    },
    "language_info": {
      "name": "python"
    }
  },
  "cells": [
    {
      "cell_type": "markdown",
      "metadata": {
        "id": "view-in-github",
        "colab_type": "text"
      },
      "source": [
        "<a href=\"https://colab.research.google.com/github/felipeodorcyk/Codility_Python_Exercises/blob/main/MinAvgTwoSlice.ipynb\" target=\"_parent\"><img src=\"https://colab.research.google.com/assets/colab-badge.svg\" alt=\"Open In Colab\"/></a>"
      ]
    },
    {
      "cell_type": "markdown",
      "source": [
        "A non-empty array A consisting of N integers is given. A pair of integers (P, Q), such that 0 ≤ P < Q < N, is called a slice of array A (notice that the slice contains at least two elements). The average of a slice (P, Q) is the sum of A[P] + A[P + 1] + ... + A[Q] divided by the length of the slice. To be precise, the average equals (A[P] + A[P + 1] + ... + A[Q]) / (Q − P + 1).\n",
        "\n",
        "For example, array A such that:\n",
        "\n",
        "    A[0] = 4\n",
        "    A[1] = 2\n",
        "    A[2] = 2\n",
        "    A[3] = 5\n",
        "    A[4] = 1\n",
        "    A[5] = 5\n",
        "    A[6] = 8\n",
        "contains the following example slices:\n",
        "\n",
        "slice (1, 2), whose average is (2 + 2) / 2 = 2;\n",
        "slice (3, 4), whose average is (5 + 1) / 2 = 3;\n",
        "slice (1, 4), whose average is (2 + 2 + 5 + 1) / 4 = 2.5.\n",
        "The goal is to find the starting position of a slice whose average is minimal.\n",
        "\n",
        "Write a function:\n",
        "\n",
        "def solution(A)\n",
        "\n",
        "that, given a non-empty array A consisting of N integers, returns the starting position of the slice with the minimal average. If there is more than one slice with a minimal average, you should return the smallest starting position of such a slice.\n",
        "\n",
        "For example, given array A such that:\n",
        "\n",
        "    A[0] = 4\n",
        "    A[1] = 2\n",
        "    A[2] = 2\n",
        "    A[3] = 5\n",
        "    A[4] = 1\n",
        "    A[5] = 5\n",
        "    A[6] = 8\n",
        "the function should return 1, as explained above.\n",
        "\n",
        "Write an efficient algorithm for the following assumptions:\n",
        "\n",
        "N is an integer within the range [2..100,000];\n",
        "each element of array A is an integer within the range [−10,000..10,000]."
      ],
      "metadata": {
        "id": "-rO9NWGGO3UF"
      }
    },
    {
      "cell_type": "code",
      "source": [
        "def solution(A):\n",
        "  min_mean = 9999999\n",
        "  min_idx = 898989\n",
        "  \n",
        "  for idx, n in enumerate(A[:-2]):\n",
        "    curr_mean = []  \n",
        "    curr_mean.append((n + A[idx+1] + A[idx+2])/3) #takes average in slice of 3\n",
        "    curr_mean.append((n + A[idx+1])/2) #slice of 2\n",
        "    if min(curr_mean) < min_mean: #compares to min_mean \n",
        "      min_mean = min(curr_mean)\n",
        "      min_idx = idx\n",
        "  \n",
        "  curr_mean = ((A[-2] + A[-1])/2) #in case the minimal slice is of 2 numbers and in the las positions\n",
        "  if curr_mean < min_mean:\n",
        "    min_idx = len(A[0:-2])\n",
        "\n",
        "  return min_idx    \n"
      ],
      "metadata": {
        "id": "6zlh8yB2uCLi"
      },
      "execution_count": null,
      "outputs": []
    }
  ]
}