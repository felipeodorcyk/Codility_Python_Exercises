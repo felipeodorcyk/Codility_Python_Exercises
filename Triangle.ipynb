{
  "nbformat": 4,
  "nbformat_minor": 0,
  "metadata": {
    "colab": {
      "name": "Triangle.ipynb",
      "provenance": [],
      "collapsed_sections": [],
      "authorship_tag": "ABX9TyPhXl5ERcHN01xEy0Q6eJGN",
      "include_colab_link": true
    },
    "kernelspec": {
      "name": "python3",
      "display_name": "Python 3"
    },
    "language_info": {
      "name": "python"
    }
  },
  "cells": [
    {
      "cell_type": "markdown",
      "metadata": {
        "id": "view-in-github",
        "colab_type": "text"
      },
      "source": [
        "<a href=\"https://colab.research.google.com/github/felipeodorcyk/Codility_Python_Exercises/blob/main/Triangle.ipynb\" target=\"_parent\"><img src=\"https://colab.research.google.com/assets/colab-badge.svg\" alt=\"Open In Colab\"/></a>"
      ]
    },
    {
      "cell_type": "markdown",
      "source": [
        "An array A consisting of N integers is given. A triplet (P, Q, R) is triangular if 0 ≤ P < Q < R < N and:\n",
        "\n",
        "A[P] + A[Q] > A[R],\n",
        "A[Q] + A[R] > A[P],\n",
        "A[R] + A[P] > A[Q].\n",
        "For example, consider array A such that:\n",
        "\n",
        "  A[0] = 10    A[1] = 2    A[2] = 5\n",
        "  A[3] = 1     A[4] = 8    A[5] = 20\n",
        "Triplet (0, 2, 4) is triangular.\n",
        "\n",
        "Write a function:\n",
        "\n",
        "class Solution { public int solution(int[] A); }\n",
        "\n",
        "that, given an array A consisting of N integers, returns 1 if there exists a triangular triplet for this array and returns 0 otherwise.\n",
        "\n",
        "For example, given array A such that:\n",
        "\n",
        "  A[0] = 10    A[1] = 2    A[2] = 5\n",
        "  A[3] = 1     A[4] = 8    A[5] = 20\n",
        "the function should return 1, as explained above. Given array A such that:\n",
        "\n",
        "  A[0] = 10    A[1] = 50    A[2] = 5\n",
        "  A[3] = 1\n",
        "the function should return 0.\n",
        "\n",
        "Write an efficient algorithm for the following assumptions:\n",
        "\n",
        "N is an integer within the range [0..100,000];\n",
        "each element of array A is an integer within the range [−2,147,483,648..2,147,483,647]."
      ],
      "metadata": {
        "id": "jO5h1Kr5PjR0"
      }
    },
    {
      "cell_type": "code",
      "execution_count": null,
      "metadata": {
        "id": "Nk_NDtuT9jv4"
      },
      "outputs": [],
      "source": [
        "def solution(A):\n",
        "    if len(A) < 3:\n",
        "        return 0\n",
        "\n",
        "    A.sort()\n",
        "    for i in range(len(A)-2):\n",
        "        if A[i] + A[i+ 1] > A[i + 2]:\n",
        "            return 1\n",
        "\n",
        "    return 0"
      ]
    }
  ]
}