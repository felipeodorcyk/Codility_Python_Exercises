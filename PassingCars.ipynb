{
  "nbformat": 4,
  "nbformat_minor": 0,
  "metadata": {
    "colab": {
      "name": "PassingCars.ipynb",
      "provenance": [],
      "collapsed_sections": [],
      "authorship_tag": "ABX9TyNQr54Z7zPMHjW/hHuLYrQA",
      "include_colab_link": true
    },
    "kernelspec": {
      "name": "python3",
      "display_name": "Python 3"
    },
    "language_info": {
      "name": "python"
    }
  },
  "cells": [
    {
      "cell_type": "markdown",
      "metadata": {
        "id": "view-in-github",
        "colab_type": "text"
      },
      "source": [
        "<a href=\"https://colab.research.google.com/github/felipeodorcyk/Codility_Python_Exercises/blob/main/PassingCars.ipynb\" target=\"_parent\"><img src=\"https://colab.research.google.com/assets/colab-badge.svg\" alt=\"Open In Colab\"/></a>"
      ]
    },
    {
      "cell_type": "markdown",
      "source": [
        "A non-empty array A consisting of N integers is given. The consecutive elements of array A represent consecutive cars on a road.\n",
        "\n",
        "Array A contains only 0s and/or 1s:\n",
        "\n",
        "0 represents a car traveling east,\n",
        "1 represents a car traveling west.\n",
        "The goal is to count passing cars. We say that a pair of cars (P, Q), where 0 ≤ P < Q < N, is passing when P is traveling to the east and Q is traveling to the west.\n",
        "\n",
        "For example, consider array A such that:\n",
        "\n",
        "  A[0] = 0\n",
        "  A[1] = 1\n",
        "  A[2] = 0\n",
        "  A[3] = 1\n",
        "  A[4] = 1\n",
        "We have five pairs of passing cars: (0, 1), (0, 3), (0, 4), (2, 3), (2, 4).\n",
        "\n",
        "Write a function:\n",
        "\n",
        "def solution(A)\n",
        "\n",
        "that, given a non-empty array A of N integers, returns the number of pairs of passing cars.\n",
        "\n",
        "The function should return −1 if the number of pairs of passing cars exceeds 1,000,000,000.\n",
        "\n",
        "For example, given:\n",
        "\n",
        "  A[0] = 0\n",
        "  A[1] = 1\n",
        "  A[2] = 0\n",
        "  A[3] = 1\n",
        "  A[4] = 1\n",
        "the function should return 5, as explained above.\n",
        "\n",
        "Write an efficient algorithm for the following assumptions:\n",
        "\n",
        "N is an integer within the range [1..100,000];\n",
        "each element of array A is an integer that can have one of the following values: 0, 1."
      ],
      "metadata": {
        "id": "IzFQBUd7N7h-"
      }
    },
    {
      "cell_type": "code",
      "execution_count": null,
      "metadata": {
        "id": "t1dB1qWlc14H"
      },
      "outputs": [],
      "source": [
        "def solution(A):\n",
        "    n_pairs = 0\n",
        "    #Since pairs can only be between a 0 and the other 1s that come after, the total sum wil be equal to thhe number of 1 cars that come after a zero car.\n",
        "    total_1 = sum(A)\n",
        "    for car_num, direction in enumerate(A):\n",
        "        if direction == 1:\n",
        "          #instead of remaking the whole sum, just remove each car 1 that passes\n",
        "           total_1-=1\n",
        "        elif direction == 0:\n",
        "            n_pairs += total_1\n",
        "            if n_pairs > 1000000000:\n",
        "                return -1\n",
        "    return n_pairs"
      ]
    }
  ]
}