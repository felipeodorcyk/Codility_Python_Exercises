{
  "nbformat": 4,
  "nbformat_minor": 0,
  "metadata": {
    "colab": {
      "name": "MaxProductOfThree.ipynb",
      "provenance": [],
      "collapsed_sections": [],
      "authorship_tag": "ABX9TyM4vjZ4EMZIMLZnE0MSyhzk",
      "include_colab_link": true
    },
    "kernelspec": {
      "name": "python3",
      "display_name": "Python 3"
    },
    "language_info": {
      "name": "python"
    }
  },
  "cells": [
    {
      "cell_type": "markdown",
      "metadata": {
        "id": "view-in-github",
        "colab_type": "text"
      },
      "source": [
        "<a href=\"https://colab.research.google.com/github/felipeodorcyk/Codility_Python_Exercises/blob/main/MaxProductOfThree.ipynb\" target=\"_parent\"><img src=\"https://colab.research.google.com/assets/colab-badge.svg\" alt=\"Open In Colab\"/></a>"
      ]
    },
    {
      "cell_type": "markdown",
      "source": [
        "A non-empty array A consisting of N integers is given. The product of triplet (P, Q, R) equates to A[P] * A[Q] * A[R] (0 ≤ P < Q < R < N).\n",
        "\n",
        "For example, array A such that:\n",
        "\n",
        "  A[0] = -3\n",
        "  A[1] = 1\n",
        "  A[2] = 2\n",
        "  A[3] = -2\n",
        "  A[4] = 5\n",
        "  A[5] = 6\n",
        "contains the following example triplets:\n",
        "\n",
        "(0, 1, 2), product is −3 * 1 * 2 = −6\n",
        "(1, 2, 4), product is 1 * 2 * 5 = 10\n",
        "(2, 4, 5), product is 2 * 5 * 6 = 60\n",
        "Your goal is to find the maximal product of any triplet.\n",
        "\n",
        "Write a function:\n",
        "\n",
        "class Solution { public int solution(int[] A); }\n",
        "\n",
        "that, given a non-empty array A, returns the value of the maximal product of any triplet.\n",
        "\n",
        "For example, given array A such that:\n",
        "\n",
        "  A[0] = -3\n",
        "  A[1] = 1\n",
        "  A[2] = 2\n",
        "  A[3] = -2\n",
        "  A[4] = 5\n",
        "  A[5] = 6\n",
        "the function should return 60, as the product of triplet (2, 4, 5) is maximal.\n",
        "\n",
        "Write an efficient algorithm for the following assumptions:\n",
        "\n",
        "N is an integer within the range [3..100,000];\n",
        "each element of array A is an integer within the range [−1,000..1,000]."
      ],
      "metadata": {
        "id": "Y60ZlarRPS0N"
      }
    },
    {
      "cell_type": "code",
      "source": [
        "def solution(A):\n",
        "    A.sort()\n",
        "    max_vals = []\n",
        "    #checks if all numbers are negative\n",
        "    if A[-1]<0:\n",
        "        for i in [-1,-2,-3]:\n",
        "            max_vals.append(A[i])\n",
        "    else:\n",
        "        if (A[0])*(A[1])> A[-2]*A[-3]: #checks if multiplication of negative numbers will enter\n",
        "            for i in [0,1,-1]:\n",
        "                max_vals.append(A[i])             \n",
        "        else:\n",
        "            for i in [-1,-2,-3]:\n",
        "                max_vals.append(A[i])\n",
        "\n",
        "   \n",
        "    return max_vals[0]*max_vals[1]*max_vals[2]"
      ],
      "metadata": {
        "id": "Bc1iRlRu5z7H"
      },
      "execution_count": null,
      "outputs": []
    }
  ]
}