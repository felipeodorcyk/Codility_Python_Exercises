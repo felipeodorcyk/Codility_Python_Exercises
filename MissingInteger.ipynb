{
  "nbformat": 4,
  "nbformat_minor": 0,
  "metadata": {
    "colab": {
      "name": "MissingInteger.ipynb",
      "provenance": [],
      "collapsed_sections": [],
      "authorship_tag": "ABX9TyMaxlrSu30r9iYjLZiJl/8Y",
      "include_colab_link": true
    },
    "kernelspec": {
      "name": "python3",
      "display_name": "Python 3"
    },
    "language_info": {
      "name": "python"
    }
  },
  "cells": [
    {
      "cell_type": "markdown",
      "metadata": {
        "id": "view-in-github",
        "colab_type": "text"
      },
      "source": [
        "<a href=\"https://colab.research.google.com/github/felipeodorcyk/Codility_Python_Exercises/blob/main/MissingInteger.ipynb\" target=\"_parent\"><img src=\"https://colab.research.google.com/assets/colab-badge.svg\" alt=\"Open In Colab\"/></a>"
      ]
    },
    {
      "cell_type": "markdown",
      "source": [
        "Write a function:\n",
        "\n",
        "def solution(A)\n",
        "\n",
        "that, given an array A of N integers, returns the smallest positive integer (greater than 0) that does not occur in A.\n",
        "\n",
        "For example, given A = [1, 3, 6, 4, 1, 2], the function should return 5.\n",
        "\n",
        "Given A = [1, 2, 3], the function should return 4.\n",
        "\n",
        "Given A = [−1, −3], the function should return 1.\n",
        "\n",
        "Write an efficient algorithm for the following assumptions:\n",
        "\n",
        "N is an integer within the range [1..100,000];\n",
        "each element of array A is an integer within the range [−1,000,000..1,000,000]."
      ],
      "metadata": {
        "id": "BnaDx4rTMvBQ"
      }
    },
    {
      "cell_type": "code",
      "source": [
        "def solution(A):\n",
        "  #remove duplicates and numbers < 0:\n",
        "  A_set = set(A)\n",
        "  sorted_A = [x for x in list(A_set) if x>0]\n",
        "  #Sorting\n",
        "  sorted_A.sort()\n",
        "  #Dealing with empty arrays or arrays with only 1 positive int\n",
        "  if len(sorted_A) <= 1:\n",
        "    try:\n",
        "      if sorted_A[0] == 1:\n",
        "        return 2\n",
        "      else:\n",
        "        return 1\n",
        "    except:\n",
        "      return 1\n",
        "\n",
        "  elif sorted_A[0] != 1:\n",
        "    return 1\n",
        "  #checking it index + 1 is equal to number, ir not return missing number\n",
        "  else:\n",
        "    for idx, num in enumerate(sorted_A):\n",
        "      if idx + 1 != num :\n",
        "        return sorted_A[idx-1]+1\n",
        "  #in case there are no missing ints in array return smalles int not in array\n",
        "  return sorted_A[-1]+1"
      ],
      "metadata": {
        "id": "RvaYo9SgXLpz"
      },
      "execution_count": null,
      "outputs": []
    }
  ]
}